{
  "nbformat": 4,
  "nbformat_minor": 0,
  "metadata": {
    "colab": {
      "provenance": []
    },
    "kernelspec": {
      "name": "python3",
      "display_name": "Python 3"
    },
    "language_info": {
      "name": "python"
    }
  },
  "cells": [
    {
      "cell_type": "markdown",
      "source": [
        "**FaceGate : Verifikasi Pengguna Menggunakan Citra Wajah**"
      ],
      "metadata": {
        "id": "eDDSo0Xvmtyb"
      }
    },
    {
      "cell_type": "markdown",
      "source": [
        "FaceGate adalah aplikasi verifikasi wajah berbasis deep learning yang dikembangkan dengan Python. Aplikasi ini menggunakan model Keras untuk mengenali identitas wajah dari kamera secara real-time maupun dari gambar yang diunggah. Antarmukanya dibuat dengan Tkinter dan dilengkapi tampilan video serta tombol kontrol. Saat wajah dikenali dengan tingkat keyakinan di atas 90%, sistem menampilkan identitas dengan overlay visual; jika tidak, ditampilkan peringatan. FaceGate menggabungkan TensorFlow/Keras, OpenCV, dan Pillow, dan cocok digunakan sebagai prototipe sistem keamanan berbasis wajah.\n"
      ],
      "metadata": {
        "id": "zddH4htXmbis"
      }
    },
    {
      "cell_type": "markdown",
      "source": [
        "**Import Library**"
      ],
      "metadata": {
        "id": "1_rZebjbjust"
      }
    },
    {
      "cell_type": "code",
      "source": [
        "import tkinter as tk\n",
        "from tkinter import messagebox, filedialog\n",
        "from PIL import Image, ImageTk, ImageDraw, ImageFont\n",
        "import cv2\n",
        "import numpy as np\n",
        "from tensorflow.keras.models import load_model\n",
        "import os\n"
      ],
      "metadata": {
        "id": "vkl7AKpAjuI7"
      },
      "execution_count": null,
      "outputs": []
    },
    {
      "cell_type": "markdown",
      "source": [
        "**Memuat Model dan Label Kelas**"
      ],
      "metadata": {
        "id": "7UrBAkMtkyJ_"
      }
    },
    {
      "cell_type": "code",
      "source": [
        "model = load_model(\"keras_model.h5\")\n",
        "\n",
        "if os.path.exists(\"labels.txt\"):\n",
        "    with open(\"labels.txt\", \"r\") as f:\n",
        "        class_labels = [line.strip() for line in f.readlines()]\n",
        "else:\n",
        "    raise FileNotFoundError(\"File 'labels.txt' tidak ditemukan.\")\n"
      ],
      "metadata": {
        "id": "zUlBWl1ukSUl"
      },
      "execution_count": null,
      "outputs": []
    },
    {
      "cell_type": "markdown",
      "source": [
        "Memuat model klasifikasi wajah dari file .h5, serta label kelas dari labels.txt. Label digunakan untuk menampilkan identitas yang dikenali oleh model."
      ],
      "metadata": {
        "id": "v-0sCdfhkUrG"
      }
    },
    {
      "cell_type": "markdown",
      "source": [
        "**Membuat GUI Tkinter**"
      ],
      "metadata": {
        "id": "v3KSFmyFkk42"
      }
    },
    {
      "cell_type": "code",
      "source": [
        "window = tk.Tk()\n",
        "window.title(\"FaceGate - Verifikasi Wajah\")\n",
        "window.geometry(\"800x620\")\n",
        "window.configure(bg=\"#1e1e1e\")\n",
        "window.resizable(False, False)\n",
        "\n",
        "header = tk.Label(window, text=\"FaceGate\", font=(\"Helvetica\", 24, \"bold\"), fg=\"#00ff88\", bg=\"#1e1e1e\")\n",
        "header.pack(pady=10)\n",
        "\n",
        "subtext = tk.Label(window, text=\"Verifikasi Pengguna Menggunakan Citra Wajah\", font=(\"Helvetica\", 12), fg=\"white\", bg=\"#1e1e1e\")\n",
        "subtext.pack(pady=5)\n",
        "\n",
        "video_label = tk.Label(window, bg=\"black\")\n",
        "video_label.pack(pady=10)\n",
        "\n",
        "button_frame = tk.Frame(window, bg=\"#1e1e1e\")\n",
        "button_frame.pack(pady=10)\n",
        "\n",
        "start_button = tk.Button(button_frame, text=\"Mulai Verifikasi\", width=20, bg=\"#00cc66\", fg=\"white\", font=(\"Helvetica\", 10, \"bold\"))\n",
        "stop_button = tk.Button(button_frame, text=\"Berhenti\", width=20, bg=\"#cc3333\", fg=\"white\", font=(\"Helvetica\", 10, \"bold\"))\n",
        "upload_button = tk.Button(button_frame, text=\"Unggah Gambar\", width=20, bg=\"#007acc\", fg=\"white\", font=(\"Helvetica\", 10, \"bold\"))\n",
        "\n",
        "start_button.grid(row=0, column=0, padx=10)\n",
        "upload_button.grid(row=0, column=1, padx=10)\n"
      ],
      "metadata": {
        "id": "nH9PLa67kj9L"
      },
      "execution_count": null,
      "outputs": []
    },
    {
      "cell_type": "markdown",
      "source": [
        "Membangun antarmuka pengguna: judul, subjudul, area tampilan video, dan tombol kontrol (mulai, berhenti, unggah gambar). Desain menggunakan warna gelap dan elemen modern."
      ],
      "metadata": {
        "id": "YKlD3Dxck9as"
      }
    },
    {
      "cell_type": "markdown",
      "source": [
        "**Fungsi Overlay Hasil Prediksi ke Gambar**"
      ],
      "metadata": {
        "id": "w-Q-hjE1lWKB"
      }
    },
    {
      "cell_type": "code",
      "source": [
        "def tampilkan_overlay(pil_img, status, nama=None):\n",
        "    try:\n",
        "        big_font = ImageFont.truetype(\"arialbd.ttf\", 120)\n",
        "        text_font = ImageFont.truetype(\"arial.ttf\", 26)\n",
        "    except:\n",
        "        big_font = ImageFont.load_default()\n",
        "        text_font = ImageFont.load_default()\n",
        "\n",
        "    draw_img = pil_img.copy()\n",
        "    if status == \"dikenali\":\n",
        "        overlay = Image.new(\"RGBA\", pil_img.size, (0, 102, 204, 130))\n",
        "        draw_img = Image.alpha_composite(draw_img, overlay)\n",
        "        draw = ImageDraw.Draw(draw_img)\n",
        "        draw.text((draw_img.width // 2 - 40, 100), \"✔\", fill=(255, 255, 255, 255), font=big_font)\n",
        "        draw.text((draw_img.width // 2 - 200, 300), f\"Identitas Dikenali: {nama}\", fill=(255, 255, 255, 255), font=text_font)\n",
        "    else:\n",
        "        overlay = Image.new(\"RGBA\", pil_img.size, (0, 0, 0, 180))\n",
        "        draw_img = Image.alpha_composite(draw_img, overlay)\n",
        "        draw = ImageDraw.Draw(draw_img)\n",
        "        draw.text((draw_img.width // 2 - 40, 100), \"!\", fill=(255, 0, 0, 255), font=big_font)\n",
        "        draw.text((draw_img.width // 2 - 200, 300), \"Identitas Tidak Dikenali\", fill=(255, 255, 255, 255), font=text_font)\n",
        "\n",
        "    return draw_img.convert(\"RGB\")\n"
      ],
      "metadata": {
        "id": "54wiyM9gk8kT"
      },
      "execution_count": null,
      "outputs": []
    },
    {
      "cell_type": "markdown",
      "source": [
        "Fungsi ini menambahkan lapisan teks ke gambar yang ditampilkan berdasarkan status prediksi: jika wajah dikenali (dikenali) atau tidak (tidak)."
      ],
      "metadata": {
        "id": "38g5-pXtldqa"
      }
    },
    {
      "cell_type": "markdown",
      "source": [
        "**Fungsi Update Frame dari Kamera**"
      ],
      "metadata": {
        "id": "M_AG0Pwqli5y"
      }
    },
    {
      "cell_type": "code",
      "source": [
        "verifikasi_aktif = False\n",
        "cap = None\n",
        "\n",
        "def update_frame():\n",
        "    if not verifikasi_aktif or cap is None:\n",
        "        return\n",
        "\n",
        "    ret, frame = cap.read()\n",
        "    if not ret:\n",
        "        return\n",
        "\n",
        "    img = cv2.resize(frame, (224, 224)) / 255.0\n",
        "    img = np.expand_dims(img, axis=0)\n",
        "\n",
        "    pred = model.predict(img)\n",
        "    class_idx = np.argmax(pred)\n",
        "    confidence = float(pred[0][class_idx])\n",
        "\n",
        "    display_frame = cv2.resize(frame, (720, 480))\n",
        "    display_image = cv2.cvtColor(display_frame, cv2.COLOR_BGR2RGB)\n",
        "    pil_img = Image.fromarray(display_image).convert(\"RGBA\")\n",
        "\n",
        "    if confidence > 0.9:\n",
        "        name = class_labels[class_idx]\n",
        "        pil_img = tampilkan_overlay(pil_img, \"dikenali\", name)\n",
        "    else:\n",
        "        pil_img = tampilkan_overlay(pil_img, \"tidak\")\n",
        "\n",
        "    imgtk = ImageTk.PhotoImage(image=pil_img)\n",
        "    video_label.imgtk = imgtk\n",
        "    video_label.configure(image=imgtk)\n",
        "\n",
        "    if verifikasi_aktif:\n",
        "        window.after(30, update_frame)\n"
      ],
      "metadata": {
        "id": "Sg3t4919lhJQ"
      },
      "execution_count": null,
      "outputs": []
    },
    {
      "cell_type": "markdown",
      "source": [
        "Mengambil frame dari kamera, melakukan prediksi, menambahkan overlay hasil klasifikasi, dan menampilkannya ke GUI. Update terus setiap 30ms jika verifikasi aktif."
      ],
      "metadata": {
        "id": "WjNu3D6Mlnzn"
      }
    },
    {
      "cell_type": "markdown",
      "source": [
        "**Fungsi Tombol Kontrol Kamera dan Unggah Gambar**"
      ],
      "metadata": {
        "id": "BNKXfa1xltQz"
      }
    },
    {
      "cell_type": "code",
      "source": [
        "def mulai_verifikasi():\n",
        "    global verifikasi_aktif, cap\n",
        "    if cap is None or not cap.isOpened():\n",
        "        cap = cv2.VideoCapture(0)\n",
        "\n",
        "    if not cap.isOpened():\n",
        "        messagebox.showerror(\"Error\", \"Kamera tidak tersedia.\")\n",
        "        return\n",
        "\n",
        "    verifikasi_aktif = True\n",
        "    stop_button.grid(row=0, column=2, padx=10)\n",
        "    update_frame()\n",
        "\n",
        "def berhenti_verifikasi():\n",
        "    global verifikasi_aktif, cap\n",
        "    verifikasi_aktif = False\n",
        "    if cap is not None and cap.isOpened():\n",
        "        cap.release()\n",
        "        cap = None\n",
        "    stop_button.grid_forget()\n",
        "    video_label.config(image='', bg=\"black\")\n",
        "\n",
        "def unggah_gambar():\n",
        "    file_path = filedialog.askopenfilename(filetypes=[(\"Image Files\", \"*.jpg;*.jpeg;*.png\")])\n",
        "    if not file_path:\n",
        "        return\n",
        "\n",
        "    img_raw = cv2.imread(file_path)\n",
        "    if img_raw is None:\n",
        "        messagebox.showerror(\"Error\", \"Gagal memuat gambar.\")\n",
        "        return\n",
        "\n",
        "    img_input = cv2.resize(img_raw, (224, 224)) / 255.0\n",
        "    img_input = np.expand_dims(img_input, axis=0)\n",
        "\n",
        "    pred = model.predict(img_input)\n",
        "    class_idx = np.argmax(pred)\n",
        "    confidence = float(pred[0][class_idx])\n",
        "\n",
        "    display_frame = cv2.resize(img_raw, (720, 480))\n",
        "    display_image = cv2.cvtColor(display_frame, cv2.COLOR_BGR2RGB)\n",
        "    pil_img = Image.fromarray(display_image).convert(\"RGBA\")\n",
        "\n",
        "    if confidence > 0.9:\n",
        "        name = class_labels[class_idx]\n",
        "        pil_img = tampilkan_overlay(pil_img, \"dikenali\", name)\n",
        "    else:\n",
        "        pil_img = tampilkan_overlay(pil_img, \"tidak\")\n",
        "\n",
        "    pil_img = pil_img.convert(\"RGB\")\n",
        "    imgtk = ImageTk.PhotoImage(image=pil_img)\n",
        "    video_label.imgtk = imgtk\n",
        "    video_label.configure(image=imgtk)\n"
      ],
      "metadata": {
        "id": "uhrXQfMFlozH"
      },
      "execution_count": null,
      "outputs": []
    },
    {
      "cell_type": "markdown",
      "source": [
        "mulai_verifikasi() memulai kamera dan mulai klasifikasi.\n",
        "\n",
        "berhenti_verifikasi() menghentikan kamera dan menghapus tampilan.\n",
        "\n",
        "unggah_gambar() memungkinkan pengguna memilih gambar untuk diklasifikasikan tanpa kamera."
      ],
      "metadata": {
        "id": "OOwr42V1lxH3"
      }
    },
    {
      "cell_type": "markdown",
      "source": [
        "**Menghubungkan Fungsi ke Tombol**"
      ],
      "metadata": {
        "id": "QpxBD_vimDDc"
      }
    },
    {
      "cell_type": "code",
      "source": [
        "start_button.config(command=mulai_verifikasi)\n",
        "stop_button.config(command=berhenti_verifikasi)\n",
        "upload_button.config(command=unggah_gambar)\n"
      ],
      "metadata": {
        "id": "GDphKy4ol0SM"
      },
      "execution_count": null,
      "outputs": []
    },
    {
      "cell_type": "markdown",
      "source": [
        "Menetapkan aksi tombol agar saat diklik, fungsi yang sesuai dijalankan (verifikasi dimulai, berhenti, atau unggah gambar)."
      ],
      "metadata": {
        "id": "kJzJRQhdmGpI"
      }
    },
    {
      "cell_type": "markdown",
      "source": [
        "**Menjalankan Antarmuka Aplikasi**"
      ],
      "metadata": {
        "id": "V54BNGFNmJLT"
      }
    },
    {
      "cell_type": "code",
      "source": [
        "window.mainloop()"
      ],
      "metadata": {
        "id": "eXglP2AfmM9w"
      },
      "execution_count": null,
      "outputs": []
    }
  ]
}